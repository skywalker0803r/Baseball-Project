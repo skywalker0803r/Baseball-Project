{
 "cells": [
  {
   "cell_type": "code",
   "execution_count": 9,
   "id": "d16797d2",
   "metadata": {},
   "outputs": [
    {
     "name": "stderr",
     "output_type": "stream",
     "text": [
      " 10%|█         | 1/10 [00:05<00:47,  5.26s/it]"
     ]
    },
    {
     "name": "stdout",
     "output_type": "stream",
     "text": [
      "💾 模型已儲存為 model_strike_predictor_debug.pth\n",
      "0.6016949152542372\n"
     ]
    },
    {
     "name": "stderr",
     "output_type": "stream",
     "text": [
      " 20%|██        | 2/10 [00:11<00:47,  5.91s/it]"
     ]
    },
    {
     "name": "stdout",
     "output_type": "stream",
     "text": [
      "💾 模型已儲存為 model_strike_predictor_debug.pth\n",
      "0.5508474576271186\n"
     ]
    },
    {
     "name": "stderr",
     "output_type": "stream",
     "text": [
      " 30%|███       | 3/10 [00:17<00:42,  6.09s/it]"
     ]
    },
    {
     "name": "stdout",
     "output_type": "stream",
     "text": [
      "💾 模型已儲存為 model_strike_predictor_debug.pth\n",
      "0.5084745762711864\n"
     ]
    },
    {
     "name": "stderr",
     "output_type": "stream",
     "text": [
      " 40%|████      | 4/10 [00:24<00:37,  6.25s/it]"
     ]
    },
    {
     "name": "stdout",
     "output_type": "stream",
     "text": [
      "💾 模型已儲存為 model_strike_predictor_debug.pth\n",
      "0.5338983050847458\n"
     ]
    },
    {
     "name": "stderr",
     "output_type": "stream",
     "text": [
      " 50%|█████     | 5/10 [00:31<00:31,  6.38s/it]"
     ]
    },
    {
     "name": "stdout",
     "output_type": "stream",
     "text": [
      "💾 模型已儲存為 model_strike_predictor_debug.pth\n",
      "0.6101694915254238\n"
     ]
    },
    {
     "name": "stderr",
     "output_type": "stream",
     "text": [
      " 60%|██████    | 6/10 [00:37<00:25,  6.32s/it]"
     ]
    },
    {
     "name": "stdout",
     "output_type": "stream",
     "text": [
      "💾 模型已儲存為 model_strike_predictor_debug.pth\n",
      "0.5169491525423728\n"
     ]
    },
    {
     "name": "stderr",
     "output_type": "stream",
     "text": [
      " 70%|███████   | 7/10 [00:43<00:18,  6.30s/it]"
     ]
    },
    {
     "name": "stdout",
     "output_type": "stream",
     "text": [
      "💾 模型已儲存為 model_strike_predictor_debug.pth\n",
      "0.5338983050847458\n"
     ]
    },
    {
     "name": "stderr",
     "output_type": "stream",
     "text": [
      " 80%|████████  | 8/10 [00:49<00:12,  6.30s/it]"
     ]
    },
    {
     "name": "stdout",
     "output_type": "stream",
     "text": [
      "💾 模型已儲存為 model_strike_predictor_debug.pth\n",
      "0.5677966101694916\n"
     ]
    },
    {
     "name": "stderr",
     "output_type": "stream",
     "text": [
      " 90%|█████████ | 9/10 [00:56<00:06,  6.28s/it]"
     ]
    },
    {
     "name": "stdout",
     "output_type": "stream",
     "text": [
      "💾 模型已儲存為 model_strike_predictor_debug.pth\n",
      "0.5508474576271186\n"
     ]
    },
    {
     "name": "stderr",
     "output_type": "stream",
     "text": [
      "100%|██████████| 10/10 [01:02<00:00,  6.22s/it]\n"
     ]
    },
    {
     "name": "stdout",
     "output_type": "stream",
     "text": [
      "💾 模型已儲存為 model_strike_predictor_debug.pth\n",
      "0.5508474576271186\n",
      "用zone當label 平均準確度0.5525423728813559\n"
     ]
    },
    {
     "name": "stderr",
     "output_type": "stream",
     "text": [
      " 10%|█         | 1/10 [00:06<00:57,  6.35s/it]"
     ]
    },
    {
     "name": "stdout",
     "output_type": "stream",
     "text": [
      "💾 模型已儲存為 model_strike_predictor_debug.pth\n",
      "0.7542372881355932\n"
     ]
    },
    {
     "name": "stderr",
     "output_type": "stream",
     "text": [
      " 20%|██        | 2/10 [00:12<00:49,  6.24s/it]"
     ]
    },
    {
     "name": "stdout",
     "output_type": "stream",
     "text": [
      "💾 模型已儲存為 model_strike_predictor_debug.pth\n",
      "0.7372881355932204\n"
     ]
    },
    {
     "name": "stderr",
     "output_type": "stream",
     "text": [
      " 30%|███       | 3/10 [00:18<00:43,  6.15s/it]"
     ]
    },
    {
     "name": "stdout",
     "output_type": "stream",
     "text": [
      "💾 模型已儲存為 model_strike_predictor_debug.pth\n",
      "0.7542372881355932\n"
     ]
    },
    {
     "name": "stderr",
     "output_type": "stream",
     "text": [
      " 40%|████      | 4/10 [00:24<00:37,  6.18s/it]"
     ]
    },
    {
     "name": "stdout",
     "output_type": "stream",
     "text": [
      "💾 模型已儲存為 model_strike_predictor_debug.pth\n",
      "0.6694915254237288\n"
     ]
    },
    {
     "name": "stderr",
     "output_type": "stream",
     "text": [
      " 50%|█████     | 5/10 [00:31<00:31,  6.28s/it]"
     ]
    },
    {
     "name": "stdout",
     "output_type": "stream",
     "text": [
      "💾 模型已儲存為 model_strike_predictor_debug.pth\n",
      "0.7542372881355932\n"
     ]
    },
    {
     "name": "stderr",
     "output_type": "stream",
     "text": [
      " 60%|██████    | 6/10 [00:38<00:25,  6.45s/it]"
     ]
    },
    {
     "name": "stdout",
     "output_type": "stream",
     "text": [
      "💾 模型已儲存為 model_strike_predictor_debug.pth\n",
      "0.7542372881355932\n"
     ]
    },
    {
     "name": "stderr",
     "output_type": "stream",
     "text": [
      " 70%|███████   | 7/10 [00:44<00:19,  6.62s/it]"
     ]
    },
    {
     "name": "stdout",
     "output_type": "stream",
     "text": [
      "💾 模型已儲存為 model_strike_predictor_debug.pth\n",
      "0.7542372881355932\n"
     ]
    },
    {
     "name": "stderr",
     "output_type": "stream",
     "text": [
      " 80%|████████  | 8/10 [00:51<00:13,  6.51s/it]"
     ]
    },
    {
     "name": "stdout",
     "output_type": "stream",
     "text": [
      "💾 模型已儲存為 model_strike_predictor_debug.pth\n",
      "0.7542372881355932\n"
     ]
    },
    {
     "name": "stderr",
     "output_type": "stream",
     "text": [
      " 90%|█████████ | 9/10 [00:57<00:06,  6.43s/it]"
     ]
    },
    {
     "name": "stdout",
     "output_type": "stream",
     "text": [
      "💾 模型已儲存為 model_strike_predictor_debug.pth\n",
      "0.7457627118644068\n"
     ]
    },
    {
     "name": "stderr",
     "output_type": "stream",
     "text": [
      "100%|██████████| 10/10 [01:03<00:00,  6.38s/it]"
     ]
    },
    {
     "name": "stdout",
     "output_type": "stream",
     "text": [
      "💾 模型已儲存為 model_strike_predictor_debug.pth\n",
      "0.7457627118644068\n",
      "用description當label 平均準確度0.7423728813559322\n"
     ]
    },
    {
     "name": "stderr",
     "output_type": "stream",
     "text": [
      "\n"
     ]
    }
   ],
   "source": [
    "import pandas as pd\n",
    "from sklearn.preprocessing import LabelEncoder\n",
    "import os\n",
    "import numpy as np\n",
    "import pandas as pd\n",
    "from tqdm import tqdm\n",
    "\n",
    "# 這個函數只須給特徵資料夾\n",
    "# 會在主資料夾底下尋找各選手資料底下的train or test 資料夾\n",
    "# 進入 train or test 資料夾後會將 npy檔案都拿到 以及利用player_csv.loc[file_number - 1, 'description']\n",
    "# 去找對應label\n",
    "def load_features_and_labels(features_dir,label_set):\n",
    "    def collect_data(split):\n",
    "        X, y = [], []\n",
    "        for subdir in os.listdir(features_dir):\n",
    "            player_name = subdir.split('_video')[0]\n",
    "            #print(f\"📂 處理選手：{player_name}\")\n",
    "            try:\n",
    "                player_csv_path = f'data/{player_name}_videos_4S/{player_name}.csv'\n",
    "                player_csv = pd.read_csv(player_csv_path)\n",
    "            except Exception as e:\n",
    "                #print(f\"❌ 讀取 CSV 失敗：{player_csv_path}，錯誤：{e}\")\n",
    "                continue\n",
    "\n",
    "            split_path = os.path.join(features_dir, subdir, split)\n",
    "            if not os.path.isdir(split_path):\n",
    "                continue\n",
    "            \n",
    "            npy_files = [f for f in os.listdir(split_path) if f.endswith('.npy')]\n",
    "            #print(f\"{split_path} 共有 {len(npy_files)} 個 .npy 檔案\")\n",
    "            for file in npy_files:\n",
    "                if file.endswith(\".npy\"):\n",
    "                    npy_path = os.path.join(split_path, file)\n",
    "                    try:\n",
    "                        file_number = int(file.replace('pitch_', '').replace('.npy', ''))\n",
    "                        features = np.load(npy_path)#.reshape(4,10,100)\n",
    "                        features = features.flatten()\n",
    "                        \n",
    "                        # 取得對應的標籤（例如 zone）\n",
    "                        if label_set == 'zone':\n",
    "                            label = player_csv.loc[file_number - 1, 'zone']\n",
    "                            label = 1 if str(label) in [str(i) for i in range(1, 10)] else 0\n",
    "                        elif label_set == 'description':\n",
    "                            label = player_csv.loc[file_number-1, 'description']\n",
    "                            label = 1 if \"strike\" in str(label).lower() else 0\n",
    "                        else:\n",
    "                            raise 'error'\n",
    "\n",
    "                        X.append(features)\n",
    "                        y.append(label)\n",
    "                    except Exception as e:\n",
    "                        print(f\"❌ 失敗讀取 {file}：{e}\")\n",
    "        return np.array(X), np.array(y)\n",
    "\n",
    "    X_train, y_train = collect_data(\"train\")\n",
    "    X_test, y_test = collect_data(\"test\")\n",
    "    return X_train, y_train, X_test, y_test\n",
    "\n",
    "# prepare_and_train_v3.py\n",
    "import os\n",
    "import numpy as np\n",
    "import torch\n",
    "import torch.nn as nn\n",
    "import torch.optim as optim\n",
    "from sklearn.metrics import accuracy_score\n",
    "import pandas as pd\n",
    "import random\n",
    "import numpy as np\n",
    "import torch\n",
    "\n",
    "def set_all_random_seeds(seed=42):\n",
    "    random.seed(seed)\n",
    "    np.random.seed(seed)\n",
    "    torch.manual_seed(seed)\n",
    "    torch.cuda.manual_seed(seed)\n",
    "    torch.cuda.manual_seed_all(seed)  # if you are using multi-GPU.\n",
    "    torch.backends.cudnn.deterministic = True\n",
    "    torch.backends.cudnn.benchmark = False\n",
    "\n",
    "class SimpleTCN(nn.Module):\n",
    "    def __init__(self, input_size=400 * 12, num_classes=2):\n",
    "        super(SimpleTCN, self).__init__()\n",
    "        self.fc = nn.Sequential(\n",
    "            nn.Linear(input_size, 256),\n",
    "            nn.ReLU(),\n",
    "            nn.Dropout(0.3),\n",
    "            nn.Linear(256, 128),\n",
    "            nn.ReLU(),\n",
    "            nn.Linear(128, num_classes),\n",
    "        )\n",
    "\n",
    "    def forward(self, x):\n",
    "        return self.fc(x)\n",
    "\n",
    "def train_and_evaluate(label_set):\n",
    "    X_train, y_train, X_test, y_test = load_features_and_labels(\"features\",label_set)\n",
    "    #print(X_train.shape)\n",
    "\n",
    "    # 新的做法\n",
    "    y_all = np.concatenate([y_train, y_test])\n",
    "    le = LabelEncoder()\n",
    "    y_all_encoded = le.fit_transform(y_all)\n",
    "    y_train = y_all_encoded[:len(y_train)]\n",
    "    y_test = y_all_encoded[len(y_train):]\n",
    "    n_class = len(np.unique(y_all_encoded))\n",
    "\n",
    "    #print(f\"📊 訓練資料筆數：{len(X_train)}，測試資料筆數：{len(X_test)}\")\n",
    "\n",
    "    model = SimpleTCN(input_size=X_train.shape[1],num_classes=n_class)\n",
    "    criterion = nn.CrossEntropyLoss()\n",
    "    optimizer = optim.Adam(model.parameters(), lr=0.001)\n",
    "\n",
    "    X_train_tensor = torch.tensor(X_train, dtype=torch.float32)\n",
    "    y_train_tensor = torch.tensor(y_train, dtype=torch.long)\n",
    "\n",
    "    model.train()\n",
    "    epochs = 200\n",
    "    for epoch in range(epochs):\n",
    "        outputs = model(X_train_tensor)\n",
    "        loss = criterion(outputs, y_train_tensor)\n",
    "\n",
    "        optimizer.zero_grad()\n",
    "        loss.backward()\n",
    "        optimizer.step() \n",
    "        #print(f\"Epoch {epoch+1}/{epochs}, Loss: {loss.item():.4f}\")\n",
    "    \n",
    "    # 訓練正確率\n",
    "    model.eval()\n",
    "    with torch.no_grad():\n",
    "        X_train_tensor = torch.tensor(X_train, dtype=torch.float32)\n",
    "        y_pred = model(X_train_tensor).argmax(dim=1).numpy()\n",
    "        acc = accuracy_score(y_train, y_pred)\n",
    "        #print(f\"✅ 訓練正確率：{acc:.2%}\")\n",
    "\n",
    "    # 測試\n",
    "    model.eval()\n",
    "    with torch.no_grad():\n",
    "        X_test_tensor = torch.tensor(X_test, dtype=torch.float32)\n",
    "        y_pred = model(X_test_tensor).argmax(dim=1).numpy()\n",
    "        acc = accuracy_score(y_test, y_pred)\n",
    "        #print(f\"✅ 測試正確率：{acc:.2%}\")\n",
    "\n",
    "    # 儲存模型\n",
    "    torch.save(model.state_dict(), \"model_strike_predictor_debug.pth\")\n",
    "    print(\"💾 模型已儲存為 model_strike_predictor_debug.pth\")\n",
    "    return acc\n",
    "\n",
    "for label_set in ['zone','description']:\n",
    "    test_acc_list = []\n",
    "    for i in tqdm(range(10)):\n",
    "        set_all_random_seeds(i)\n",
    "        acc = train_and_evaluate(label_set)\n",
    "        test_acc_list.append(acc)\n",
    "        print(acc)\n",
    "    print(f\"用{label_set}當label 平均準確度{np.mean(test_acc_list)}\")"
   ]
  }
 ],
 "metadata": {
  "kernelspec": {
   "display_name": "pose39",
   "language": "python",
   "name": "python3"
  },
  "language_info": {
   "codemirror_mode": {
    "name": "ipython",
    "version": 3
   },
   "file_extension": ".py",
   "mimetype": "text/x-python",
   "name": "python",
   "nbconvert_exporter": "python",
   "pygments_lexer": "ipython3",
   "version": "3.9.21"
  }
 },
 "nbformat": 4,
 "nbformat_minor": 5
}
